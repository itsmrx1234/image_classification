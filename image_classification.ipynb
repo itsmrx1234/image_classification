{
  "nbformat": 4,
  "nbformat_minor": 0,
  "metadata": {
    "colab": {
      "provenance": [],
      "gpuType": "T4",
      "authorship_tag": "ABX9TyPs2lyEMMk954j/KuWU3v5k",
      "include_colab_link": true
    },
    "kernelspec": {
      "name": "python3",
      "display_name": "Python 3"
    },
    "language_info": {
      "name": "python"
    },
    "accelerator": "GPU"
  },
  "cells": [
    {
      "cell_type": "markdown",
      "metadata": {
        "id": "view-in-github",
        "colab_type": "text"
      },
      "source": [
        "<a href=\"https://colab.research.google.com/github/itsmrx1234/image_classification/blob/main/image_classification.ipynb\" target=\"_parent\"><img src=\"https://colab.research.google.com/assets/colab-badge.svg\" alt=\"Open In Colab\"/></a>"
      ]
    },
    {
      "cell_type": "code",
      "execution_count": 45,
      "metadata": {
        "id": "wnY3sFxd2deu"
      },
      "outputs": [],
      "source": [
        "import numpy as np\n",
        "import matplotlib.pyplot as plt\n",
        "import random"
      ]
    },
    {
      "cell_type": "code",
      "source": [
        "X_train = np.loadtxt('train_X.csv', delimiter = ',').T\n",
        "Y_train = np.loadtxt('train_label.csv', delimiter = ',').T\n",
        "\n",
        "X_test = np.loadtxt('test_X.csv', delimiter = ',').T\n",
        "Y_test = np.loadtxt('test_label.csv', delimiter = ',').T"
      ],
      "metadata": {
        "id": "hgyD3xOe2v9p"
      },
      "execution_count": 46,
      "outputs": []
    },
    {
      "cell_type": "code",
      "source": [
        "index = random.randrange(0, X_train.shape[1])\n",
        "plt.imshow(X_train[:, index].reshape(28, 28), cmap = 'gray')\n",
        "plt.show()"
      ],
      "metadata": {
        "colab": {
          "base_uri": "https://localhost:8080/",
          "height": 430
        },
        "id": "BMb01JVh3nDR",
        "outputId": "dafa7b22-50a0-4453-c15f-05689172dd9e"
      },
      "execution_count": 47,
      "outputs": [
        {
          "output_type": "display_data",
          "data": {
            "text/plain": [
              "<Figure size 640x480 with 1 Axes>"
            ],
            "image/png": "[encoded data removed]"
          },
          "metadata": {}
        }
      ]
    },
    {
      "cell_type": "code",
      "source": [
        "def tanh(x):\n",
        "    return np.tanh(x)\n",
        "\n",
        "def relu(x):\n",
        "    return np.maximum(x, 0)\n",
        "\n",
        "def softmax(x):\n",
        "    expX = np.exp(x)\n",
        "    return expX/np.sum(expX, axis = 0)"
      ],
      "metadata": {
        "id": "c5re3rk75TyV"
      },
      "execution_count": 48,
      "outputs": []
    },
    {
      "cell_type": "code",
      "source": [
        "def derivative_tanh(x):\n",
        "  return 1 - np.power(np.tanh(x), 2)\n",
        "\n",
        "def derivative_relu(x):\n",
        "  return np.array(x > 0, dtype = np.float32)\n"
      ],
      "metadata": {
        "id": "Zx02ubb_U-LX"
      },
      "execution_count": 49,
      "outputs": []
    },
    {
      "cell_type": "markdown",
      "source": [
        "## Initializing Parameters"
      ],
      "metadata": {
        "id": "CC-EGSRUlX9p"
      }
    },
    {
      "cell_type": "code",
      "source": [
        "\n",
        "\n",
        "def initialize_parameters(n_x, n_h, n_y):\n",
        "    w1 = np.random.randn(n_h, n_x)*0.01\n",
        "    b1 = np.zeros((n_h, 1))\n",
        "\n",
        "    w2 = np.random.randn(n_y, n_h)*0.01\n",
        "    b2 = np.zeros((n_y, 1))\n",
        "\n",
        "    parameters = {\n",
        "        \"w1\" : w1,\n",
        "        \"b1\" : b1,\n",
        "        \"w2\" : w2,\n",
        "        \"b2\" : b2\n",
        "    }\n",
        "\n",
        "    return parameters\n",
        "\n"
      ],
      "metadata": {
        "id": "v3bM_vNrlRfk"
      },
      "execution_count": 50,
      "outputs": []
    },
    {
      "cell_type": "markdown",
      "source": [
        "##Forward Propagation"
      ],
      "metadata": {
        "id": "c2Yrox_Xn4Wk"
      }
    },
    {
      "cell_type": "code",
      "source": [
        "def forward_propagation(x, parameters):\n",
        "  w1 = parameters[\"w1\"]\n",
        "  b1 = parameters[\"b1\"]\n",
        "  w2 = parameters[\"w2\"]\n",
        "  b2 = parameters[\"b2\"]\n",
        "\n",
        "  z1 = np.dot(w1, x) + b1\n",
        "  a1 = relu(z1)\n",
        "\n",
        "  z2 = np.dot(w2, a1) + b2\n",
        "  a2 = softmax(z2)\n",
        "\n",
        "  forward_cache = {\n",
        "      \"z1\": z1,\n",
        "      \"a1\": a1,\n",
        "      \"z2\": z2,\n",
        "      \"a2\": a2\n",
        "  }\n",
        "\n",
        "  return forward_cache"
      ],
      "metadata": {
        "id": "E3VQ9WCaoF2S"
      },
      "execution_count": 51,
      "outputs": []
    },
    {
      "cell_type": "markdown",
      "source": [
        "#Cost Function"
      ],
      "metadata": {
        "id": "lg3M_hDes9yF"
      }
    },
    {
      "cell_type": "code",
      "source": [
        "def cost_function(a2, y):\n",
        "    m = y.shape[1]\n",
        "\n",
        "    cost = -(1/m)*np.sum(y*np.log(a2))\n",
        "\n",
        "    #cost = -(1/m)*np.sum(np.sum(y*np.log(a2, 0), 1))\n",
        "\n",
        "    return cost"
      ],
      "metadata": {
        "id": "Lna47L3ptBYh"
      },
      "execution_count": 52,
      "outputs": []
    },
    {
      "cell_type": "markdown",
      "source": [
        "#Back propagation"
      ],
      "metadata": {
        "id": "7yHc8CIc-IAq"
      }
    },
    {
      "cell_type": "code",
      "source": [
        "\n",
        "\n",
        "def backward_prop(x, y, parameters, forward_cache):\n",
        "\n",
        "    w1 = parameters['w1']\n",
        "    b1 = parameters['b1']\n",
        "    w2 = parameters['w2']\n",
        "    b2 = parameters['b2']\n",
        "\n",
        "    a1 = forward_cache['a1']\n",
        "    a2 = forward_cache['a2']\n",
        "\n",
        "    m = x.shape[1]\n",
        "\n",
        "    dz2 = (a2 - y)\n",
        "    dw2 = (1/m)*np.dot(dz2, a1.T)\n",
        "    db2 = (1/m)*np.sum(dz2, axis = 1, keepdims = True)\n",
        "\n",
        "    dz1 = (1/m)*np.dot(w2.T, dz2)*derivative_tanh(a1)\n",
        "    dw1 = (1/m)*np.dot(dz1, x.T)\n",
        "    db1 = (1/m)*np.sum(dz1, axis = 1, keepdims = True)\n",
        "\n",
        "    gradients = {\n",
        "        \"dw1\" : dw1,\n",
        "        \"db1\" : db1,\n",
        "        \"dw2\" : dw2,\n",
        "        \"db2\" : db2\n",
        "    }\n",
        "\n",
        "    return gradients\n",
        "\n"
      ],
      "metadata": {
        "id": "kudxC8aI9HRc"
      },
      "execution_count": 53,
      "outputs": []
    },
    {
      "cell_type": "markdown",
      "source": [
        "#Update parameters"
      ],
      "metadata": {
        "id": "40kOMUbEClQ0"
      }
    },
    {
      "cell_type": "code",
      "source": [
        "def update_parameters(parameters, gradients, learning_rate):\n",
        "  w1 = parameters[\"w1\"]\n",
        "  b1 = parameters[\"b1\"]\n",
        "  w2 = parameters[\"w2\"]\n",
        "  b2 = parameters[\"b2\"]\n",
        "\n",
        "  dw1 = gradients[\"dw1\"]\n",
        "  db1 = gradients[\"db1\"]\n",
        "  dw2 = gradients[\"dw2\"]\n",
        "  db2 = gradients[\"db2\"]\n",
        "\n",
        "  w1 = w1 - learning_rate*dw1\n",
        "  b1 = b1 - learning_rate*db1\n",
        "  w2 = w2 - learning_rate*dw2\n",
        "  b2 = b2 - learning_rate*db2\n",
        "\n",
        "  parameters = {\n",
        "      \"w1\": w1,\n",
        "      \"b1\": b1,\n",
        "      \"w2\": w2,\n",
        "      \"b2\": b2\n",
        "  }\n",
        "\n",
        "  return parameters\n"
      ],
      "metadata": {
        "id": "hBFk0QGoCobX"
      },
      "execution_count": 54,
      "outputs": []
    },
    {
      "cell_type": "code",
      "source": [
        "def model(x, y, n_h, learning_rate, num_of_iterations):\n",
        "  n_x = x.shape[0]\n",
        "  n_y = y.shape[0]\n",
        "  cost_list = []\n",
        "  parameters = initialize_parameters(n_x, n_h, n_y)\n",
        "\n",
        "  for i in range(num_of_iterations):\n",
        "\n",
        "    forward_cache = forward_propagation(x, parameters)\n",
        "    cost = cost_function(forward_cache[\"a2\"], y)\n",
        "    gradients = backward_prop(x, y, parameters, forward_cache)\n",
        "    parameters = update_parameters(parameters, gradients, learning_rate)\n",
        "\n",
        "    cost_list.append(cost)\n",
        "    if (i % (num_of_iterations / 10) == 0 ):\n",
        "      print(\"Cost after iteration %i: %f\" %(i, cost))\n",
        "\n",
        "  return parameters, cost_list\n",
        "\n"
      ],
      "metadata": {
        "id": "NLDIOpdYDhrI"
      },
      "execution_count": 55,
      "outputs": []
    },
    {
      "cell_type": "code",
      "source": [
        "iterations = 100\n",
        "learning_rate = 0.003\n",
        "n_h = 1000\n",
        "parameters, cost_list = model(X_train, Y_train, n_h, learning_rate, iterations)"
      ],
      "metadata": {
        "colab": {
          "base_uri": "https://localhost:8080/"
        },
        "id": "R_lM3yM5WN1F",
        "outputId": "0620f325-a21f-45b9-ba2d-5c3f5d933660"
      },
      "execution_count": 60,
      "outputs": [
        {
          "output_type": "stream",
          "name": "stdout",
          "text": [
            "Cost after iteration 0: 8.902514\n",
            "Cost after iteration 10: 57.854060\n",
            "Cost after iteration 20: 7.908403\n",
            "Cost after iteration 30: 2.197827\n",
            "Cost after iteration 40: 0.547588\n",
            "Cost after iteration 50: 0.570481\n",
            "Cost after iteration 60: 4.702106\n",
            "Cost after iteration 70: 0.155876\n",
            "Cost after iteration 80: 0.074257\n",
            "Cost after iteration 90: 0.032337\n"
          ]
        }
      ]
    },
    {
      "cell_type": "code",
      "source": [
        "def accuracy(inp, labels, parameters):\n",
        "    forward_cache = forward_propagation(inp, parameters)\n",
        "    a_out = forward_cache['a2']   # containes propabilities with shape(10, 1)\n",
        "\n",
        "    a_out = np.argmax(a_out, 0)  # 0 represents row wise\n",
        "\n",
        "    labels = np.argmax(labels, 0)\n",
        "\n",
        "    acc = np.mean(a_out == labels)*100\n",
        "\n",
        "    return acc"
      ],
      "metadata": {
        "id": "PpIl_-GhXets"
      },
      "execution_count": 57,
      "outputs": []
    },
    {
      "cell_type": "code",
      "source": [
        "\n",
        "\n",
        "print(\"Accuracy of Train Dataset\", accuracy(X_train, Y_train, parameters), \"%\")\n",
        "print(\"Accuracy of Test Dataset\", round(accuracy(X_test, Y_test, parameters), 2), \"%\")\n",
        "\n"
      ],
      "metadata": {
        "colab": {
          "base_uri": "https://localhost:8080/"
        },
        "id": "dFA5aI7kbVgs",
        "outputId": "d7ba2336-0ac9-4ca4-811d-bd8c1a97c6ad"
      },
      "execution_count": 61,
      "outputs": [
        {
          "output_type": "stream",
          "name": "stdout",
          "text": [
            "Accuracy of Train Dataset 99.9 %\n",
            "Accuracy of Test Dataset 86.57 %\n"
          ]
        }
      ]
    },
    {
      "cell_type": "code",
      "source": [
        "\n",
        "\n",
        "idx = int(random.randrange(0,X_test.shape[1]))\n",
        "plt.imshow(X_test[:, idx].reshape((28,28)),cmap='gray')\n",
        "plt.show()\n",
        "\n",
        "cache = forward_propagation(X_test[:, idx].reshape(X_test[:, idx].shape[0], 1), parameters)\n",
        "a_pred = cache['a2']\n",
        "a_pred = np.argmax(a_pred, 0)\n",
        "\n",
        "print(\"Our model says it is :\", a_pred[0])\n",
        "\n"
      ],
      "metadata": {
        "colab": {
          "base_uri": "https://localhost:8080/",
          "height": 448
        },
        "id": "l6RTbZhJbYbO",
        "outputId": "aedfb8fe-2233-461c-9138-c85a38cc1323"
      },
      "execution_count": 67,
      "outputs": [
        {
          "output_type": "display_data",
          "data": {
            "text/plain": [
              "<Figure size 640x480 with 1 Axes>"
            ],
            "image/png": "[encoded data removed]"
          },
          "metadata": {}
        },
        {
          "output_type": "stream",
          "name": "stdout",
          "text": [
            "Our model says it is : 5\n"
          ]
        }
      ]
    },
    {
      "cell_type": "code",
      "source": [],
      "metadata": {
        "id": "8FCKtwcccbCO"
      },
      "execution_count": 64,
      "outputs": []
    }
  ]
}